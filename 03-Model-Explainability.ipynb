{
 "cells": [
  {
   "cell_type": "code",
   "execution_count": 2,
   "id": "1a312eaf-d169-4309-bca5-cebff3dfa5db",
   "metadata": {},
   "outputs": [
    {
     "name": "stdout",
     "output_type": "stream",
     "text": [
      "Collecting ipywidgets\n",
      "  Downloading ipywidgets-8.1.7-py3-none-any.whl (139 kB)\n",
      "     -------------------------------------- 139.8/139.8 kB 2.8 MB/s eta 0:00:00\n",
      "Requirement already satisfied: traitlets>=4.3.1 in c:\\users\\kamal yadav\\onedrive\\desktop\\customer-360-platform\\venv\\lib\\site-packages (from ipywidgets) (5.14.3)\n",
      "Requirement already satisfied: ipython>=6.1.0 in c:\\users\\kamal yadav\\onedrive\\desktop\\customer-360-platform\\venv\\lib\\site-packages (from ipywidgets) (8.37.0)\n",
      "Collecting widgetsnbextension~=4.0.14\n",
      "  Downloading widgetsnbextension-4.0.14-py3-none-any.whl (2.2 MB)\n",
      "     ---------------------------------------- 2.2/2.2 MB 7.8 MB/s eta 0:00:00\n",
      "Collecting jupyterlab_widgets~=3.0.15\n",
      "  Downloading jupyterlab_widgets-3.0.15-py3-none-any.whl (216 kB)\n",
      "     -------------------------------------- 216.6/216.6 kB 6.4 MB/s eta 0:00:00\n",
      "Requirement already satisfied: comm>=0.1.3 in c:\\users\\kamal yadav\\onedrive\\desktop\\customer-360-platform\\venv\\lib\\site-packages (from ipywidgets) (0.2.3)\n",
      "Requirement already satisfied: colorama in c:\\users\\kamal yadav\\onedrive\\desktop\\customer-360-platform\\venv\\lib\\site-packages (from ipython>=6.1.0->ipywidgets) (0.4.6)\n",
      "Requirement already satisfied: matplotlib-inline in c:\\users\\kamal yadav\\onedrive\\desktop\\customer-360-platform\\venv\\lib\\site-packages (from ipython>=6.1.0->ipywidgets) (0.1.7)\n",
      "Requirement already satisfied: exceptiongroup in c:\\users\\kamal yadav\\onedrive\\desktop\\customer-360-platform\\venv\\lib\\site-packages (from ipython>=6.1.0->ipywidgets) (1.3.0)\n",
      "Requirement already satisfied: stack_data in c:\\users\\kamal yadav\\onedrive\\desktop\\customer-360-platform\\venv\\lib\\site-packages (from ipython>=6.1.0->ipywidgets) (0.6.3)\n",
      "Requirement already satisfied: pygments>=2.4.0 in c:\\users\\kamal yadav\\onedrive\\desktop\\customer-360-platform\\venv\\lib\\site-packages (from ipython>=6.1.0->ipywidgets) (2.19.2)\n",
      "Requirement already satisfied: jedi>=0.16 in c:\\users\\kamal yadav\\onedrive\\desktop\\customer-360-platform\\venv\\lib\\site-packages (from ipython>=6.1.0->ipywidgets) (0.19.2)\n",
      "Requirement already satisfied: prompt_toolkit<3.1.0,>=3.0.41 in c:\\users\\kamal yadav\\onedrive\\desktop\\customer-360-platform\\venv\\lib\\site-packages (from ipython>=6.1.0->ipywidgets) (3.0.52)\n",
      "Requirement already satisfied: decorator in c:\\users\\kamal yadav\\onedrive\\desktop\\customer-360-platform\\venv\\lib\\site-packages (from ipython>=6.1.0->ipywidgets) (5.2.1)\n",
      "Requirement already satisfied: typing_extensions>=4.6 in c:\\users\\kamal yadav\\onedrive\\desktop\\customer-360-platform\\venv\\lib\\site-packages (from ipython>=6.1.0->ipywidgets) (4.15.0)\n",
      "Requirement already satisfied: parso<0.9.0,>=0.8.4 in c:\\users\\kamal yadav\\onedrive\\desktop\\customer-360-platform\\venv\\lib\\site-packages (from jedi>=0.16->ipython>=6.1.0->ipywidgets) (0.8.5)\n",
      "Requirement already satisfied: wcwidth in c:\\users\\kamal yadav\\onedrive\\desktop\\customer-360-platform\\venv\\lib\\site-packages (from prompt_toolkit<3.1.0,>=3.0.41->ipython>=6.1.0->ipywidgets) (0.2.14)\n",
      "Requirement already satisfied: pure-eval in c:\\users\\kamal yadav\\onedrive\\desktop\\customer-360-platform\\venv\\lib\\site-packages (from stack_data->ipython>=6.1.0->ipywidgets) (0.2.3)\n",
      "Requirement already satisfied: asttokens>=2.1.0 in c:\\users\\kamal yadav\\onedrive\\desktop\\customer-360-platform\\venv\\lib\\site-packages (from stack_data->ipython>=6.1.0->ipywidgets) (3.0.0)\n",
      "Requirement already satisfied: executing>=1.2.0 in c:\\users\\kamal yadav\\onedrive\\desktop\\customer-360-platform\\venv\\lib\\site-packages (from stack_data->ipython>=6.1.0->ipywidgets) (2.2.1)\n",
      "Installing collected packages: widgetsnbextension, jupyterlab_widgets, ipywidgets\n",
      "Successfully installed ipywidgets-8.1.7 jupyterlab_widgets-3.0.15 widgetsnbextension-4.0.14\n"
     ]
    },
    {
     "name": "stderr",
     "output_type": "stream",
     "text": [
      "\n",
      "[notice] A new release of pip available: 22.2.2 -> 25.2\n",
      "[notice] To update, run: python.exe -m pip install --upgrade pip\n"
     ]
    }
   ],
   "source": [
    "!pip install ipywidgets"
   ]
  },
  {
   "cell_type": "code",
   "execution_count": 1,
   "id": "7a55f4b4-6ba8-4b8f-a2b5-5042f8a5ab84",
   "metadata": {},
   "outputs": [
    {
     "name": "stdout",
     "output_type": "stream",
     "text": [
      "Model and data loaded successfully.\n"
     ]
    }
   ],
   "source": [
    "import pandas as pd\n",
    "import joblib\n",
    "import shap\n",
    "from pathlib import Path\n",
    "from sklearn.model_selection import train_test_split\n",
    "\n",
    "# Load the feature set\n",
    "project_root = Path.cwd()\n",
    "features_path = project_root / 'data' / 'curated' / 'customer_features.parquet'\n",
    "df_features = pd.read_parquet(features_path)\n",
    "\n",
    "# Load the trained model\n",
    "model_path = project_root / 'models' / 'artifacts' / 'churn_model_v1.joblib'\n",
    "model = joblib.load(model_path)\n",
    "\n",
    "# Re-split data to get the same test set we used for evaluation\n",
    "X = df_features[['recency', 'frequency', 'monetary']]\n",
    "y = df_features['churn']\n",
    "X_train, X_test, y_train, y_test = train_test_split(X, y, test_size=0.2, random_state=42, stratify=y)\n",
    "\n",
    "print(\"Model and data loaded successfully.\")"
   ]
  },
  {
   "cell_type": "code",
   "execution_count": null,
   "id": "cf28616b-6998-4e25-93d4-43262cd8de8b",
   "metadata": {},
   "outputs": [],
   "source": []
  }
 ],
 "metadata": {
  "kernelspec": {
   "display_name": "Python 3 (ipykernel)",
   "language": "python",
   "name": "python3"
  },
  "language_info": {
   "codemirror_mode": {
    "name": "ipython",
    "version": 3
   },
   "file_extension": ".py",
   "mimetype": "text/x-python",
   "name": "python",
   "nbconvert_exporter": "python",
   "pygments_lexer": "ipython3",
   "version": "3.10.7"
  }
 },
 "nbformat": 4,
 "nbformat_minor": 5
}
